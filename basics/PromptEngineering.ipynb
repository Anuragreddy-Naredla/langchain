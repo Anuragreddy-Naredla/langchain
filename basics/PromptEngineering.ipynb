{
 "cells": [
  {
   "cell_type": "code",
   "execution_count": 8,
   "id": "a055c550",
   "metadata": {},
   "outputs": [],
   "source": [
    "import os\n",
    "from langchain.prompts import PromptTemplate\n",
    "from langchain.llms.openai import OpenAI\n",
    "from langchain.chains import LLMChain"
   ]
  },
  {
   "cell_type": "code",
   "execution_count": 5,
   "id": "6e2678ce",
   "metadata": {},
   "outputs": [],
   "source": [
    "os.environ[\"OPENAI_API_KEY\"] = '*********************************'"
   ]
  },
  {
   "cell_type": "code",
   "execution_count": 7,
   "id": "88c94b67",
   "metadata": {},
   "outputs": [
    {
     "data": {
      "text/plain": [
       "'I want you to act as a acting financial advisor for people.\\nIn an easy way, explain the basics of income tax.'"
      ]
     },
     "execution_count": 7,
     "metadata": {},
     "output_type": "execute_result"
    }
   ],
   "source": [
    "prompt_sample_template = '''I want you to act as a acting financial advisor for people.\n",
    "In an easy way, explain the basics of {financial_concept}.'''\n",
    "prompt = PromptTemplate(input_variables=['financial_concept'], template = prompt_sample_template)\n",
    "prompt.format(financial_concept='income tax')"
   ]
  },
  {
   "cell_type": "code",
   "execution_count": 17,
   "id": "cbaecb2f",
   "metadata": {},
   "outputs": [
    {
     "data": {
      "text/plain": [
       "\"\\n\\nAs an acting financial advisor, it is important for me to help people understand the basics of income tax, which is a tax that is levied on the income earned by individuals and businesses. This tax is mainly used by the government to fund public services and programs.\\n\\nThe first thing to know about income tax is that it is usually calculated based on the amount of money you earn in a year, also known as your annual income. This can include your salary, wages, bonuses, tips, and any other income you receive.\\n\\nNext, it's important to understand the difference between gross income and taxable income. Gross income is the total amount of money you earn, while taxable income is the portion of your gross income that is subject to income tax. This means that some types of income, such as gifts, inheritances, and tax-exempt interest, may not be subject to income tax.\\n\\nTo determine your taxable income, you can subtract certain deductions and exemptions from your gross income. Deductions are expenses that can be subtracted from your income, such as mortgage interest, charitable donations, and business expenses. Exemptions are a set amount of income that is not subject to tax, and this amount can vary depending on your filing status and number of dependents.\\n\\nAfter calculating\""
      ]
     },
     "execution_count": 17,
     "metadata": {},
     "output_type": "execute_result"
    }
   ],
   "source": [
    "llm = OpenAI(temperature=0.9)\n",
    "chain1 = LLMChain(llm=llm,prompt=prompt)\n",
    "chain1.run('income tax')"
   ]
  },
  {
   "cell_type": "code",
   "execution_count": 18,
   "id": "db6b6ea8",
   "metadata": {},
   "outputs": [
    {
     "data": {
      "text/plain": [
       "\"\\n\\nGDP stands for Gross Domestic Product and it is a measure of a country's economic output. It measures the total value of all goods and services produced within a country's borders in a given time period, usually a year. \\n\\nThink of it like a giant pie that represents the value of everything produced in the country. The bigger the pie, the more the country is producing and the healthier its economy is. \\n\\nGDP is important because it gives us an overall picture of how well a country's economy is performing. It can also show us if the economy is growing or shrinking. \\n\\nThere are different ways to calculate GDP, but the most common method is to add up the total spending on goods and services by consumers, businesses, and the government. This includes everything from buying groceries to building a new office building. \\n\\nGDP can also be broken down into different categories such as consumer spending, business investment, government spending, and net exports. \\n\\nHowever, GDP is not a perfect measure of a country's economic health. It does not take into account factors like income inequality, quality of life, and the value of unpaid work. \\n\\nOverall, understanding GDP can help us make informed decisions about our finances and investments, as it reflects the overall strength of a country's\""
      ]
     },
     "execution_count": 18,
     "metadata": {},
     "output_type": "execute_result"
    }
   ],
   "source": [
    "chain1.run('GDP')"
   ]
  },
  {
   "cell_type": "markdown",
   "id": "20692e52",
   "metadata": {},
   "source": [
    "### Language Translation"
   ]
  },
  {
   "cell_type": "code",
   "execution_count": 19,
   "id": "eac3661f",
   "metadata": {},
   "outputs": [],
   "source": [
    "template = '''\n",
    "In an easy way translate the following sentence '{sentence}' into {target_language}\n",
    "'''\n",
    "language_prompt = PromptTemplate(input_variables=['sentence', 'target_language'], template = template)"
   ]
  },
  {
   "cell_type": "code",
   "execution_count": 21,
   "id": "5aa5b292",
   "metadata": {},
   "outputs": [
    {
     "data": {
      "text/plain": [
       "\"\\nIn an easy way translate the following sentence 'How are you' into hindi\\n\""
      ]
     },
     "execution_count": 21,
     "metadata": {},
     "output_type": "execute_result"
    }
   ],
   "source": [
    "language_prompt.format(sentence = \"How are you\", target_language = 'hindi')"
   ]
  },
  {
   "cell_type": "code",
   "execution_count": 23,
   "id": "ed628fdd",
   "metadata": {},
   "outputs": [
    {
     "data": {
      "text/plain": [
       "{'sentence': 'Hello How are you',\n",
       " 'target_language': 'Hindi',\n",
       " 'text': 'नमस्ते आप कैसे हो '}"
      ]
     },
     "execution_count": 23,
     "metadata": {},
     "output_type": "execute_result"
    }
   ],
   "source": [
    "chain2 = LLMChain(llm=llm, prompt=language_prompt)\n",
    "chain2({'sentence':\"Hello How are you\", 'target_language':\"Hindi\"})"
   ]
  },
  {
   "cell_type": "code",
   "execution_count": 24,
   "id": "ab8021cb",
   "metadata": {},
   "outputs": [
    {
     "data": {
      "text/plain": [
       "{'sentence': 'Hello How are you',\n",
       " 'target_language': 'Telugu',\n",
       " 'text': 'హలో నీవు ఎలా ఉన్నావు?'}"
      ]
     },
     "execution_count": 24,
     "metadata": {},
     "output_type": "execute_result"
    }
   ],
   "source": [
    "chain2({'sentence':\"Hello How are you\", 'target_language':\"Telugu\"})"
   ]
  },
  {
   "cell_type": "code",
   "execution_count": 25,
   "id": "8f20f891",
   "metadata": {},
   "outputs": [
    {
     "data": {
      "text/plain": [
       "{'sentence': 'Hello How are you',\n",
       " 'target_language': 'Greek',\n",
       " 'text': '\\nΓεια σου, πώς είσαι;'}"
      ]
     },
     "execution_count": 25,
     "metadata": {},
     "output_type": "execute_result"
    }
   ],
   "source": [
    "chain2({'sentence':\"Hello How are you\", 'target_language':\"Greek\"})"
   ]
  },
  {
   "cell_type": "code",
   "execution_count": 26,
   "id": "3fba40d2",
   "metadata": {},
   "outputs": [
    {
     "data": {
      "text/plain": [
       "{'sentence': 'Hello How are you',\n",
       " 'target_language': 'French',\n",
       " 'text': '\\nSalut, comment ça va ?'}"
      ]
     },
     "execution_count": 26,
     "metadata": {},
     "output_type": "execute_result"
    }
   ],
   "source": [
    "chain2({'sentence':\"Hello How are you\", 'target_language':\"French\"})"
   ]
  },
  {
   "cell_type": "markdown",
   "id": "d8180e20",
   "metadata": {},
   "source": [
    "### FewShotPromptTemplate"
   ]
  },
  {
   "cell_type": "code",
   "execution_count": 27,
   "id": "c5fcb5a5",
   "metadata": {},
   "outputs": [],
   "source": [
    "from langchain.prompts import FewShotPromptTemplate"
   ]
  },
  {
   "cell_type": "code",
   "execution_count": 28,
   "id": "74f5b9fe",
   "metadata": {},
   "outputs": [],
   "source": [
    "examples = [\n",
    "    {\"word\":\"happy\", \"antonym\":\"sad\"},\n",
    "    {\"word\":\"tall\", \"antonym\":\"short\"},\n",
    "]\n",
    "few_shot_sample_template = \"\"\"Word:{word} Antonym:{antonym}\"\"\"\n",
    "few_shot_prompt_template = PromptTemplate(input_variables=[\"word\", \"antonym\"], \n",
    "                                          template=few_shot_sample_template)"
   ]
  },
  {
   "cell_type": "code",
   "execution_count": 30,
   "id": "4e2b6965",
   "metadata": {},
   "outputs": [],
   "source": [
    "few_shot_prompt = FewShotPromptTemplate(examples=examples, example_prompt=few_shot_prompt_template,\n",
    "                                        prefix=\"Give the antonym of every input\\n\",\n",
    "                                        suffix=\"Word: {input}\\nAntonym: \",input_variables=[\"input\"],\n",
    "                                        example_separator=\"\\n\",\n",
    "                                       )"
   ]
  },
  {
   "cell_type": "code",
   "execution_count": 33,
   "id": "de061d5a",
   "metadata": {},
   "outputs": [
    {
     "name": "stdout",
     "output_type": "stream",
     "text": [
      "Give the antonym of every input\n",
      "\n",
      "Word:happy Antonym:sad\n",
      "Word:tall Antonym:short\n",
      "Word: big\n",
      "Antonym: \n"
     ]
    }
   ],
   "source": [
    "print(few_shot_prompt.format(input = 'big'))"
   ]
  },
  {
   "cell_type": "code",
   "execution_count": 34,
   "id": "2d03c988",
   "metadata": {},
   "outputs": [
    {
     "data": {
      "text/plain": [
       "{'input': 'big', 'text': 'small'}"
      ]
     },
     "execution_count": 34,
     "metadata": {},
     "output_type": "execute_result"
    }
   ],
   "source": [
    "chain3 = LLMChain(llm=llm, prompt=few_shot_prompt)\n",
    "chain3({'input':'big'})"
   ]
  },
  {
   "cell_type": "code",
   "execution_count": null,
   "id": "974cad38",
   "metadata": {},
   "outputs": [],
   "source": []
  },
  {
   "cell_type": "code",
   "execution_count": null,
   "id": "cf59b0b4",
   "metadata": {},
   "outputs": [],
   "source": []
  },
  {
   "cell_type": "code",
   "execution_count": null,
   "id": "cfb09675",
   "metadata": {},
   "outputs": [],
   "source": []
  }
 ],
 "metadata": {
  "kernelspec": {
   "display_name": "Python 3 (ipykernel)",
   "language": "python",
   "name": "python3"
  },
  "language_info": {
   "codemirror_mode": {
    "name": "ipython",
    "version": 3
   },
   "file_extension": ".py",
   "mimetype": "text/x-python",
   "name": "python",
   "nbconvert_exporter": "python",
   "pygments_lexer": "ipython3",
   "version": "3.10.9"
  }
 },
 "nbformat": 4,
 "nbformat_minor": 5
}
