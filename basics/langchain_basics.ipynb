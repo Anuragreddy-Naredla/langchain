{
 "cells": [
  {
   "cell_type": "code",
   "execution_count": 3,
   "id": "0b81554f",
   "metadata": {},
   "outputs": [],
   "source": [
    "import os\n",
    "from langchain.llms.openai import OpenAI"
   ]
  },
  {
   "cell_type": "code",
   "execution_count": 2,
   "id": "8d65a7b1",
   "metadata": {},
   "outputs": [],
   "source": [
    "os.environ[\"OPENAI_API_KEY\"] = '****************************************'"
   ]
  },
  {
   "cell_type": "code",
   "execution_count": 6,
   "id": "2cacc658",
   "metadata": {},
   "outputs": [],
   "source": [
    "llm = OpenAI(temperature=0.6)"
   ]
  },
  {
   "cell_type": "code",
   "execution_count": 7,
   "id": "08b85e1f",
   "metadata": {},
   "outputs": [
    {
     "name": "stdout",
     "output_type": "stream",
     "text": [
      "\n",
      "\n",
      "The capital of India is New Delhi. \n"
     ]
    }
   ],
   "source": [
    "text = \"What is the capital of India\"\n",
    "print(llm.predict(text))"
   ]
  },
  {
   "cell_type": "markdown",
   "id": "a1daefa6",
   "metadata": {},
   "source": [
    "### Huggingface"
   ]
  },
  {
   "cell_type": "code",
   "execution_count": 20,
   "id": "b69f21f5",
   "metadata": {},
   "outputs": [],
   "source": [
    "os.environ[\"HUGGINGFACEHUB_API_TOKEN\"]='**********************************'"
   ]
  },
  {
   "cell_type": "code",
   "execution_count": 21,
   "id": "d453e0b2",
   "metadata": {},
   "outputs": [],
   "source": [
    "from langchain import HuggingFaceHub\n",
    "llm_hug_face = HuggingFaceHub(repo_id = \"google/flan-t5-base\", model_kwargs = {\"temperature\":0, \n",
    "                                                                               \"max_length\":64})"
   ]
  },
  {
   "cell_type": "code",
   "execution_count": 26,
   "id": "9ac133e9",
   "metadata": {},
   "outputs": [],
   "source": [
    "output = llm_hug_face.predict(\"Can you tell me the capital of USA\")"
   ]
  },
  {
   "cell_type": "code",
   "execution_count": 27,
   "id": "f85bed6f",
   "metadata": {},
   "outputs": [
    {
     "name": "stdout",
     "output_type": "stream",
     "text": [
      "Washington, D.C.\n"
     ]
    }
   ],
   "source": [
    "print(output)"
   ]
  },
  {
   "cell_type": "markdown",
   "id": "67ead129",
   "metadata": {},
   "source": [
    "### Prompt templates"
   ]
  },
  {
   "cell_type": "code",
   "execution_count": 36,
   "id": "f2f17a37",
   "metadata": {},
   "outputs": [],
   "source": [
    "from langchain.prompts import PromptTemplate\n",
    "from langchain.chains import LLMChain"
   ]
  },
  {
   "cell_type": "code",
   "execution_count": 37,
   "id": "05c843b9",
   "metadata": {},
   "outputs": [
    {
     "data": {
      "text/plain": [
       "'Tell me the capital of this India'"
      ]
     },
     "execution_count": 37,
     "metadata": {},
     "output_type": "execute_result"
    }
   ],
   "source": [
    "prompt_template = PromptTemplate(input_variables=['country'], \n",
    "                                 template = \"Tell me the capital of this {country}\")\n",
    "prompt_template.format(country = 'India')"
   ]
  },
  {
   "cell_type": "code",
   "execution_count": 38,
   "id": "bbee405a",
   "metadata": {},
   "outputs": [
    {
     "data": {
      "text/plain": [
       "'\\n\\nThe capital of India is New Delhi.'"
      ]
     },
     "execution_count": 38,
     "metadata": {},
     "output_type": "execute_result"
    }
   ],
   "source": [
    "chain = LLMChain(llm = llm, prompt=prompt_template)\n",
    "chain.run('india')"
   ]
  },
  {
   "cell_type": "markdown",
   "id": "080c1dc2",
   "metadata": {},
   "source": [
    "### Combining Multiple Chains Using simple Sequential Chain"
   ]
  },
  {
   "cell_type": "code",
   "execution_count": 42,
   "id": "d9b9a169",
   "metadata": {},
   "outputs": [],
   "source": [
    "from langchain.chains import SimpleSequentialChain"
   ]
  },
  {
   "cell_type": "code",
   "execution_count": 43,
   "id": "088c60dd",
   "metadata": {},
   "outputs": [],
   "source": [
    "capital_prompt = PromptTemplate(input_variables=['country'], \n",
    "                               template=\"Please tell me the capital of the {country}\")\n",
    "capital_chain = LLMChain(llm=llm, prompt = capital_prompt)"
   ]
  },
  {
   "cell_type": "code",
   "execution_count": 44,
   "id": "49e71864",
   "metadata": {},
   "outputs": [],
   "source": [
    "famous_template = PromptTemplate(input_variables=['capital'], \n",
    "                                template = \"Suggest me some amazing places to visit in {capital}\")"
   ]
  },
  {
   "cell_type": "code",
   "execution_count": 45,
   "id": "f5f65396",
   "metadata": {},
   "outputs": [],
   "source": [
    "famous_chain = LLMChain(llm=llm, prompt=famous_template)"
   ]
  },
  {
   "cell_type": "code",
   "execution_count": 47,
   "id": "c37682b3",
   "metadata": {},
   "outputs": [
    {
     "name": "stdout",
     "output_type": "stream",
     "text": [
      " Here are some amazing places to visit in Delhi:\n",
      "\n",
      "1. Red Fort - This iconic monument is a must-visit for its stunning architecture and historical significance.\n",
      "\n",
      "2. Qutub Minar - Another famous monument, this 73-meter tall tower is a UNESCO World Heritage Site and a beautiful example of Indo-Islamic architecture.\n",
      "\n",
      "3. India Gate - This war memorial is a popular spot for picnics and a great place to soak in the city's atmosphere.\n",
      "\n",
      "4. Humayun's Tomb - This magnificent tomb is the final resting place of Mughal Emperor Humayun and is known for its beautiful gardens and intricate architecture.\n",
      "\n",
      "5. Lotus Temple - This Bahá'í House of Worship is a peaceful and serene place to visit, with its lotus-shaped structure and tranquil atmosphere.\n",
      "\n",
      "6. Akshardham Temple - This massive Hindu temple complex is a modern architectural marvel and a popular spot for spiritual seekers.\n",
      "\n",
      "7. Chandni Chowk - This bustling market in Old Delhi is a shopper's paradise, offering everything from traditional Indian handicrafts to mouth-watering street food.\n",
      "\n",
      "8. Connaught Place - This commercial and financial hub of Delhi is a great place to shop, dine, and experience the city's vibrant nightlife.\n",
      "\n",
      "9. Lodhi Garden\n"
     ]
    }
   ],
   "source": [
    "chain = SimpleSequentialChain(chains=[capital_chain, famous_chain])\n",
    "print(chain.run(\"India\"))"
   ]
  },
  {
   "cell_type": "markdown",
   "id": "5e4ea026",
   "metadata": {},
   "source": [
    "### Sequential Chain"
   ]
  },
  {
   "cell_type": "code",
   "execution_count": 50,
   "id": "aca9510c",
   "metadata": {},
   "outputs": [],
   "source": [
    "from langchain.chains import SequentialChain"
   ]
  },
  {
   "cell_type": "code",
   "execution_count": 51,
   "id": "a90c105a",
   "metadata": {},
   "outputs": [],
   "source": [
    "capital_prompt = PromptTemplate(input_variables=['country'], \n",
    "                               template=\"Please tell me the capital of the {country}\")\n",
    "capital_chain = LLMChain(llm=llm, prompt = capital_prompt, output_key='capital')"
   ]
  },
  {
   "cell_type": "code",
   "execution_count": 52,
   "id": "2195c928",
   "metadata": {},
   "outputs": [],
   "source": [
    "famous_template = PromptTemplate(input_variables=['capital'], \n",
    "                                template = \"Suggest me some amazing places to visit in {capital}\")\n",
    "famous_chain = LLMChain(llm=llm, prompt=famous_template, output_key='places')"
   ]
  },
  {
   "cell_type": "code",
   "execution_count": 53,
   "id": "73669d0a",
   "metadata": {},
   "outputs": [],
   "source": [
    "chain = SequentialChain(chains = [capital_chain, famous_chain], input_variables=['country'], \n",
    "                       output_variables=['capital', 'places'])"
   ]
  },
  {
   "cell_type": "code",
   "execution_count": 55,
   "id": "638cb0e1",
   "metadata": {},
   "outputs": [
    {
     "name": "stdout",
     "output_type": "stream",
     "text": [
      "{'country': 'India', 'capital': '\\n\\nThe capital of India is New Delhi.', 'places': \" It is a bustling city with a rich history and culture. Here are some amazing places to visit in New Delhi:\\n\\n1. Red Fort - This iconic red sandstone fort was built by the Mughal emperor Shah Jahan and is a UNESCO World Heritage Site. It is a magnificent example of Mughal architecture and houses several museums and galleries.\\n\\n2. India Gate - A war memorial dedicated to the Indian soldiers who lost their lives during World War I, India Gate is an important landmark in New Delhi. It is a popular spot for picnics and evening walks.\\n\\n3. Qutub Minar - Another UNESCO World Heritage Site, Qutub Minar is a 73-meter tall tower built by Qutub-ud-din Aibak in the 12th century. It is surrounded by several other historical structures and is a must-visit for history buffs.\\n\\n4. Lotus Temple - This beautiful temple is shaped like a lotus flower and is a symbol of unity and peace. It is open to people of all faiths and is a popular spot for meditation and quiet reflection.\\n\\n5. Humayun's Tomb - Built in the 16th century, this tomb is the final resting place of Mughal emperor Humayun. It is\"}\n"
     ]
    }
   ],
   "source": [
    "print(chain({'country':'India'}))"
   ]
  },
  {
   "cell_type": "markdown",
   "id": "8da612e3",
   "metadata": {},
   "source": [
    "### Chatmodels with ChatOpenAI"
   ]
  },
  {
   "cell_type": "code",
   "execution_count": 57,
   "id": "6e1c3ca9",
   "metadata": {},
   "outputs": [],
   "source": [
    "from langchain.chat_models import ChatOpenAI\n",
    "from langchain.schema import HumanMessage, SystemMessage, AIMessage"
   ]
  },
  {
   "cell_type": "code",
   "execution_count": 60,
   "id": "08c3cf02",
   "metadata": {},
   "outputs": [],
   "source": [
    "chatllm = ChatOpenAI(temperature=0.6, model='gpt-3.5-turbo')"
   ]
  },
  {
   "cell_type": "code",
   "execution_count": 61,
   "id": "9ca1955a",
   "metadata": {},
   "outputs": [
    {
     "name": "stderr",
     "output_type": "stream",
     "text": [
      "C:\\Users\\n.anurag\\AppData\\Local\\anaconda3\\lib\\site-packages\\langchain_core\\_api\\deprecation.py:117: LangChainDeprecationWarning: The function `__call__` was deprecated in LangChain 0.1.7 and will be removed in 0.2.0. Use invoke instead.\n",
      "  warn_deprecated(\n"
     ]
    },
    {
     "data": {
      "text/plain": [
       "AIMessage(content='1. \"Why did the AI break up with its computer girlfriend? She kept trying to Ctrl-Alt-Delete their relationship!\"\\n2. \"I asked my AI assistant to tell me a joke, and it replied, \\'I would, but I\\'m afraid it might crash and burn!\\'\"\\n3. \"I told my AI to make me a sandwich, and it replied, \\'Sorry, I\\'m more of a \\'byte\\' than a \\'bite\\' kind of assistant!\\'\"\\n4. \"Why did the AI go to therapy? It had too many unresolved loops and couldn\\'t function properly!\"\\n5. \"I tried to teach my AI how to dance, but all it did was the robot. Literally, it just stood there and did the robot dance!\"')"
      ]
     },
     "execution_count": 61,
     "metadata": {},
     "output_type": "execute_result"
    }
   ],
   "source": [
    "chatllm([SystemMessage(content=\"You are a comedian AI assistant\"),\n",
    "         HumanMessage(content=\"Please provide some comedy punchlines on AI\")\n",
    "        ])"
   ]
  },
  {
   "cell_type": "markdown",
   "id": "f3eb1295",
   "metadata": {},
   "source": [
    "### Prompt Template+LLM+Output Parsers"
   ]
  },
  {
   "cell_type": "code",
   "execution_count": 62,
   "id": "4fa4092d",
   "metadata": {},
   "outputs": [],
   "source": [
    "from langchain.chat_models import ChatOpenAI\n",
    "from langchain.prompts.chat import ChatPromptTemplate\n",
    "from langchain.schema import BaseOutputParser"
   ]
  },
  {
   "cell_type": "code",
   "execution_count": 63,
   "id": "e6afd317",
   "metadata": {},
   "outputs": [],
   "source": [
    "class CommaSeperatedOutput(BaseOutputParser):\n",
    "    def parse(self, text:str):\n",
    "        return text.strip().split(\",\")"
   ]
  },
  {
   "cell_type": "code",
   "execution_count": 64,
   "id": "4cebe6e5",
   "metadata": {},
   "outputs": [],
   "source": [
    "template=\"Your are a helpful assistant. When the use given any input , you should generate 5 words synonyms in a comma seperated list\"\n",
    "human_template=\"{text}\"\n",
    "chatprompt=ChatPromptTemplate.from_messages([(\"system\",template),(\"human\",human_template)])"
   ]
  },
  {
   "cell_type": "code",
   "execution_count": 65,
   "id": "eef451b2",
   "metadata": {},
   "outputs": [],
   "source": [
    "chain = chatprompt|chatllm|CommaSeperatedOutput()"
   ]
  },
  {
   "cell_type": "code",
   "execution_count": 66,
   "id": "d0bc9d16",
   "metadata": {},
   "outputs": [
    {
     "data": {
      "text/plain": [
       "['smart', ' clever', ' bright', ' astute', ' sharp']"
      ]
     },
     "execution_count": 66,
     "metadata": {},
     "output_type": "execute_result"
    }
   ],
   "source": [
    "chain.invoke({\"text\":\"intelligent\"})"
   ]
  },
  {
   "cell_type": "code",
   "execution_count": 67,
   "id": "15079cf2",
   "metadata": {},
   "outputs": [
    {
     "data": {
      "text/plain": [
       "['smart', ' intelligent', ' astute', ' sharp', ' quick-witted']"
      ]
     },
     "execution_count": 67,
     "metadata": {},
     "output_type": "execute_result"
    }
   ],
   "source": [
    "chain.invoke({\"text\":\"clever\"})"
   ]
  },
  {
   "cell_type": "code",
   "execution_count": 68,
   "id": "93b2af52",
   "metadata": {},
   "outputs": [
    {
     "data": {
      "text/plain": [
       "['lovely', ' attractive', ' stunning', ' charming', ' gorgeous']"
      ]
     },
     "execution_count": 68,
     "metadata": {},
     "output_type": "execute_result"
    }
   ],
   "source": [
    "chain.invoke({\"text\":\"beautiful\"})"
   ]
  },
  {
   "cell_type": "code",
   "execution_count": null,
   "id": "a770ca70",
   "metadata": {},
   "outputs": [],
   "source": []
  },
  {
   "cell_type": "code",
   "execution_count": null,
   "id": "9ab3ed2f",
   "metadata": {},
   "outputs": [],
   "source": []
  }
 ],
 "metadata": {
  "kernelspec": {
   "display_name": "Python 3 (ipykernel)",
   "language": "python",
   "name": "python3"
  },
  "language_info": {
   "codemirror_mode": {
    "name": "ipython",
    "version": 3
   },
   "file_extension": ".py",
   "mimetype": "text/x-python",
   "name": "python",
   "nbconvert_exporter": "python",
   "pygments_lexer": "ipython3",
   "version": "3.10.9"
  }
 },
 "nbformat": 4,
 "nbformat_minor": 5
}
